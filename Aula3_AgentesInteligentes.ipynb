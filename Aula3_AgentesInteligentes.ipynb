{
  "nbformat": 4,
  "nbformat_minor": 0,
  "metadata": {
    "colab": {
      "provenance": [],
      "authorship_tag": "ABX9TyNYB1z346KZATnz9Czhvmi3",
      "include_colab_link": true
    },
    "kernelspec": {
      "name": "python3",
      "display_name": "Python 3"
    },
    "language_info": {
      "name": "python"
    }
  },
  "cells": [
    {
      "cell_type": "markdown",
      "metadata": {
        "id": "view-in-github",
        "colab_type": "text"
      },
      "source": [
        "<a href=\"https://colab.research.google.com/github/aannddrree/disciplinaIA/blob/main/Aula3_AgentesInteligentes.ipynb\" target=\"_parent\"><img src=\"https://colab.research.google.com/assets/colab-badge.svg\" alt=\"Open In Colab\"/></a>"
      ]
    },
    {
      "cell_type": "markdown",
      "source": [
        "# Agente Reativo baseado em regras"
      ],
      "metadata": {
        "id": "WyaoGTtRrJ2m"
      }
    },
    {
      "cell_type": "markdown",
      "source": [
        "Implementação das regras e geração da escolha pelo computador:"
      ],
      "metadata": {
        "id": "D2qYpZ_Rr8Ff"
      }
    },
    {
      "cell_type": "code",
      "source": [
        "import random\n",
        "\n",
        "def jogo_pedra_papel_tesoura(escolha_usuario):\n",
        "    escolhas_possiveis = ['pedra', 'papel', 'tesoura']\n",
        "    escolha_computador = random.choice(escolhas_possiveis)\n",
        "\n",
        "    print(f\"\\nVocê escolheu: {escolha_usuario}\")\n",
        "    print(f\"O computador escolheu: {escolha_computador}\")\n",
        "\n",
        "    if escolha_usuario == escolha_computador:\n",
        "        return \"Empate!\"\n",
        "    elif (escolha_usuario == 'pedra' and escolha_computador == 'tesoura') or \\\n",
        "         (escolha_usuario == 'papel' and escolha_computador == 'pedra') or \\\n",
        "         (escolha_usuario == 'tesoura' and escolha_computador == 'papel'):\n",
        "        return \"Você ganhou!\"\n",
        "    else:\n",
        "        return \"Você perdeu!\""
      ],
      "metadata": {
        "id": "fEzgOyOVqc8J"
      },
      "execution_count": null,
      "outputs": []
    },
    {
      "cell_type": "markdown",
      "source": [
        "Inicio:"
      ],
      "metadata": {
        "id": "N8ZuDwovsHv5"
      }
    },
    {
      "cell_type": "code",
      "source": [
        "print(\"Fala turma da UNIARA, Bem vindos ao Jogo Pedra, Papel e Tesoura!\")\n",
        "\n",
        "while True:\n",
        "    escolha_usuario = input(\"Escolha pedra, papel ou tesoura (ou 'sair' para encerrar): \").lower()\n",
        "\n",
        "    if escolha_usuario == 'sair':\n",
        "        print(\"Obrigado por jogar. Até a próxima!\")\n",
        "        break\n",
        "    elif escolha_usuario not in ['pedra', 'papel', 'tesoura']:\n",
        "        print(\"Escolha inválida. Por favor, escolha pedra, papel ou tesoura.\")\n",
        "    else:\n",
        "        resultado = jogo_pedra_papel_tesoura(escolha_usuario)\n",
        "        print(resultado)"
      ],
      "metadata": {
        "colab": {
          "base_uri": "https://localhost:8080/"
        },
        "id": "Hd2y9OV_rYQR",
        "outputId": "86bd186e-cd43-46cf-dbb9-f36877596d81"
      },
      "execution_count": null,
      "outputs": [
        {
          "output_type": "stream",
          "name": "stdout",
          "text": [
            "Fala turma de computação da UNIARA, Bem vindos ao Jogo Pedra, Papel e Tesoura!\n",
            "Escolha pedra, papel ou tesoura (ou 'sair' para encerrar): Papel\n",
            "\n",
            "Você escolheu: papel\n",
            "O computador escolheu: papel\n",
            "Empate!\n",
            "Escolha pedra, papel ou tesoura (ou 'sair' para encerrar): Pedra\n",
            "\n",
            "Você escolheu: pedra\n",
            "O computador escolheu: pedra\n",
            "Empate!\n",
            "Escolha pedra, papel ou tesoura (ou 'sair' para encerrar): Tesoura\n",
            "\n",
            "Você escolheu: tesoura\n",
            "O computador escolheu: papel\n",
            "Você ganhou!\n",
            "Escolha pedra, papel ou tesoura (ou 'sair' para encerrar): sair\n",
            "Obrigado por jogar. Até a próxima!\n"
          ]
        }
      ]
    }
  ]
}