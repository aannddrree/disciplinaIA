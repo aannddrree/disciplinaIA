{
  "nbformat": 4,
  "nbformat_minor": 0,
  "metadata": {
    "colab": {
      "provenance": [],
      "authorship_tag": "ABX9TyPZS67INvBCQHxyTUJOS6cI",
      "include_colab_link": true
    },
    "kernelspec": {
      "name": "python3",
      "display_name": "Python 3"
    },
    "language_info": {
      "name": "python"
    }
  },
  "cells": [
    {
      "cell_type": "markdown",
      "metadata": {
        "id": "view-in-github",
        "colab_type": "text"
      },
      "source": [
        "<a href=\"https://colab.research.google.com/github/aannddrree/disciplinaIA/blob/main/ExemploAIPedraPapelTesoura.ipynb\" target=\"_parent\"><img src=\"https://colab.research.google.com/assets/colab-badge.svg\" alt=\"Open In Colab\"/></a>"
      ]
    },
    {
      "cell_type": "code",
      "execution_count": 6,
      "metadata": {
        "colab": {
          "base_uri": "https://localhost:8080/"
        },
        "id": "ufeMlxR0ESIi",
        "outputId": "7401e4ce-5744-4a91-e7fe-64b8fd68ce04"
      },
      "outputs": [
        {
          "output_type": "stream",
          "name": "stdout",
          "text": [
            "Olá turma, vamos jogar!!!\n",
            "Qual e a sua opção: (pedra, papel, tesoura) para sair digite sair: pedra\n",
            "\n",
            "Você escolheu: pedra\n",
            "O computador escolheu: papel\n",
            "O computador venceu!\n",
            "Qual e a sua opção: (pedra, papel, tesoura) para sair digite sair: papel\n",
            "\n",
            "Você escolheu: papel\n",
            "O computador escolheu: tesoura\n",
            "O computador venceu!\n",
            "Qual e a sua opção: (pedra, papel, tesoura) para sair digite sair: tesoura\n",
            "\n",
            "Você escolheu: tesoura\n",
            "O computador escolheu: papel\n",
            "Você venceu!\n",
            "Qual e a sua opção: (pedra, papel, tesoura) para sair digite sair: sair\n",
            "Obrigado ate logo!\n"
          ]
        }
      ],
      "source": [
        "import random\n",
        "\n",
        "def jogar_pedra_papel_tesoura(opcao_desejada):\n",
        "  escolhas_possiveis = ['pedra', 'papel', 'tesoura']\n",
        "  escolha_computador = random.choice(escolhas_possiveis)\n",
        "\n",
        "  print(f'\\nVocê escolheu: {opcao_desejada}')\n",
        "  print(f'O computador escolheu: {escolha_computador}')\n",
        "\n",
        "  if opcao_desejada == escolha_computador:\n",
        "    return \"Empate!\"\n",
        "  elif (opcao_desejada == 'pedra' and escolha_computador == 'tesoura') or \\\n",
        "       (opcao_desejada == 'papel' and escolha_computador == 'pedra') or \\\n",
        "       (opcao_desejada == 'tesoura' and escolha_computador == 'papel'):\n",
        "    return \"Você venceu!\"\n",
        "  else:\n",
        "    return \"O computador venceu!\"\n",
        "\n",
        "print(\"Olá turma, vamos jogar!!!\")\n",
        "\n",
        "while True:\n",
        "  opcao_desejada = input(\"Qual e a sua opção: (pedra, papel, tesoura) para sair digite sair: \")\n",
        "\n",
        "  if opcao_desejada == 'sair':\n",
        "    print(\"Obrigado ate logo!\")\n",
        "    break\n",
        "  elif opcao_desejada not in ('pedra', 'papel', 'tesoura'):\n",
        "    print(\"Opção inválida. Tente novamente.\")\n",
        "  else:\n",
        "    resultado = jogar_pedra_papel_tesoura(opcao_desejada)\n",
        "    print(resultado)\n"
      ]
    }
  ]
}