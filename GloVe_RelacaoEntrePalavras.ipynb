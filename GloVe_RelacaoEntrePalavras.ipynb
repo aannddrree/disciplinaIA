{
  "nbformat": 4,
  "nbformat_minor": 0,
  "metadata": {
    "colab": {
      "provenance": [],
      "authorship_tag": "ABX9TyNukPbE6EBzAaQgsjnwAs5t",
      "include_colab_link": true
    },
    "kernelspec": {
      "name": "python3",
      "display_name": "Python 3"
    },
    "language_info": {
      "name": "python"
    }
  },
  "cells": [
    {
      "cell_type": "markdown",
      "metadata": {
        "id": "view-in-github",
        "colab_type": "text"
      },
      "source": [
        "<a href=\"https://colab.research.google.com/github/aannddrree/disciplinaIA/blob/main/GloVe_RelacaoEntrePalavras.ipynb\" target=\"_parent\"><img src=\"https://colab.research.google.com/assets/colab-badge.svg\" alt=\"Open In Colab\"/></a>"
      ]
    },
    {
      "cell_type": "code",
      "execution_count": 1,
      "metadata": {
        "colab": {
          "base_uri": "https://localhost:8080/"
        },
        "id": "qbiQKrkfQtrR",
        "outputId": "40a97c81-c5d0-43ba-a1cd-49c3f0410235"
      },
      "outputs": [
        {
          "output_type": "stream",
          "name": "stdout",
          "text": [
            "[==================================================] 100.0% 128.1/128.1MB downloaded\n",
            "Vetor GloVe para a palavra 'apple': [-0.5985    -0.46321    0.13001   -0.019576   0.4603    -0.3018\n",
            "  0.8977    -0.65634    0.66858   -0.49164    0.037557  -0.050889\n",
            "  0.6451    -0.53882   -0.3765    -0.04312    0.51384    0.17783\n",
            "  0.28596    0.92063   -0.49349   -0.48583    0.61321    0.78211\n",
            "  0.19254    0.91228   -0.055596  -0.12512   -0.65688    0.068557\n",
            "  0.55629    1.611     -0.0073642 -0.48879    0.45493    0.96105\n",
            " -0.063369   0.17432    0.9814    -1.3125    -0.15801   -0.54301\n",
            " -0.13888   -0.26146   -0.3691     0.26844   -0.24375   -0.19484\n",
            "  0.62583   -0.7377     0.38351   -0.75004   -0.39053    0.091498\n",
            " -0.36591   -1.4715    -0.45228    0.2256     1.1412    -0.38526\n",
            " -0.06716    0.57288   -0.39191    0.31302   -0.29235   -0.96157\n",
            "  0.15154   -0.21659    0.25103    0.096967   0.2843     1.4296\n",
            " -0.50565   -0.51374   -0.47218    0.32036    0.023149   0.22623\n",
            " -0.09725    0.82126    0.92599   -1.0086    -0.38639    0.86408\n",
            " -1.206     -0.28528    0.2265    -0.38773    0.40879    0.59303\n",
            "  0.30769    0.83804   -0.63655   -0.44639   -0.43406   -0.79364\n",
            " -0.28675   -0.034398   1.3431     0.34904  ]\n",
            "Palavras mais similares a 'apple': [('microsoft', 0.7449405193328857), ('ibm', 0.6821643114089966), ('intel', 0.6778088212013245), ('software', 0.6775422692298889), ('dell', 0.6741442680358887)]\n"
          ]
        }
      ],
      "source": [
        "import gensim.downloader as api\n",
        "\n",
        "# Carregar embeddings GloVe pré-treinados\n",
        "glove_model = api.load(\"glove-wiki-gigaword-100\")\n",
        "\n",
        "# Obter vetor de palavra para uma palavra específica\n",
        "word_vector = glove_model['apple']\n",
        "print(\"Vetor GloVe para a palavra 'apple':\", word_vector)\n",
        "\n",
        "# Encontrar palavras mais similares\n",
        "similar_words = glove_model.most_similar('apple', topn=5)\n",
        "print(\"Palavras mais similares a 'apple':\", similar_words)\n"
      ]
    }
  ]
}