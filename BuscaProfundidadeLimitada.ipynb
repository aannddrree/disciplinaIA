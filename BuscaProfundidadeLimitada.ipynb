{
  "nbformat": 4,
  "nbformat_minor": 0,
  "metadata": {
    "colab": {
      "provenance": [],
      "authorship_tag": "ABX9TyNL7tXSVYmVC3nZShLHBX99",
      "include_colab_link": true
    },
    "kernelspec": {
      "name": "python3",
      "display_name": "Python 3"
    },
    "language_info": {
      "name": "python"
    }
  },
  "cells": [
    {
      "cell_type": "markdown",
      "metadata": {
        "id": "view-in-github",
        "colab_type": "text"
      },
      "source": [
        "<a href=\"https://colab.research.google.com/github/aannddrree/disciplinaIA/blob/main/BuscaProfundidadeLimitada.ipynb\" target=\"_parent\"><img src=\"https://colab.research.google.com/assets/colab-badge.svg\" alt=\"Open In Colab\"/></a>"
      ]
    },
    {
      "cell_type": "markdown",
      "source": [
        "# Busca por profundidade Limitada"
      ],
      "metadata": {
        "id": "b04uhI3D1OH9"
      }
    },
    {
      "cell_type": "markdown",
      "source": [
        "Nó da árvore"
      ],
      "metadata": {
        "id": "bl1XN3Qd1YFg"
      }
    },
    {
      "cell_type": "code",
      "execution_count": 1,
      "metadata": {
        "id": "JvY97ovt1Fcl"
      },
      "outputs": [],
      "source": [
        "class Node:\n",
        "    def __init__(self, data):\n",
        "        self.data = data\n",
        "        self.left = None\n",
        "        self.right = None"
      ]
    },
    {
      "cell_type": "markdown",
      "source": [
        "Função de busca em profundidade limitada"
      ],
      "metadata": {
        "id": "WAGOgnrG1dVn"
      }
    },
    {
      "cell_type": "code",
      "source": [
        "def depth_limited_search(node, target, depth):\n",
        "    if node is None:  # Caso base: nó é nulo\n",
        "        return False\n",
        "\n",
        "    if node.data == target:  # Caso base: encontrou o elemento\n",
        "        print(\"Elemento\", target, \"encontrado na árvore.\")\n",
        "        return True\n",
        "\n",
        "    if depth <= 0:  # Caso base: profundidade máxima atingida\n",
        "        return False\n",
        "\n",
        "    # Recursão para os nós filhos\n",
        "    if depth_limited_search(node.left, target, depth - 1):\n",
        "        return True\n",
        "    if depth_limited_search(node.right, target, depth - 1):\n",
        "        return True\n",
        "\n",
        "    return False"
      ],
      "metadata": {
        "id": "O-RIqWd_1i5S"
      },
      "execution_count": 2,
      "outputs": []
    },
    {
      "cell_type": "markdown",
      "source": [
        "Árvore de exemplo"
      ],
      "metadata": {
        "id": "zZMOz8Mo1j0Q"
      }
    },
    {
      "cell_type": "code",
      "source": [
        "def create_tree():\n",
        "    root = Node(1)\n",
        "    root.left = Node(2)\n",
        "    root.right = Node(3)\n",
        "    root.left.left = Node(4)\n",
        "    root.left.right = Node(5)\n",
        "    root.right.left = Node(6)\n",
        "    root.right.right = Node(7)\n",
        "    root.left.left.left = Node(8)\n",
        "    root.left.left.right = Node(9)\n",
        "    return root"
      ],
      "metadata": {
        "id": "oIzknNm01ndN"
      },
      "execution_count": 3,
      "outputs": []
    },
    {
      "cell_type": "markdown",
      "source": [
        "Teste:"
      ],
      "metadata": {
        "id": "W2MXKTNC1pLo"
      }
    },
    {
      "cell_type": "code",
      "source": [
        "def main():\n",
        "    root = create_tree()  # Carregar Árvore\n",
        "\n",
        "    target = 9  # Buscar\n",
        "    max_depth = 3  # Profundidade Máxima\n",
        "    print(\"Busca em profundidade limitada para o elemento\", target, \":\")\n",
        "    if not depth_limited_search(root, target, max_depth):\n",
        "        print(\"Elemento\", target, \"NÃO encontrado na árvore.\")\n",
        "\n",
        "if __name__ == \"__main__\":\n",
        "    main()"
      ],
      "metadata": {
        "colab": {
          "base_uri": "https://localhost:8080/"
        },
        "id": "w02QkMqL1teq",
        "outputId": "2e1343a5-dda3-4ab2-a3b4-7d0cc7eba804"
      },
      "execution_count": 4,
      "outputs": [
        {
          "output_type": "stream",
          "name": "stdout",
          "text": [
            "Busca em profundidade limitada para o elemento 9 :\n",
            "Elemento 9 encontrado na árvore.\n"
          ]
        }
      ]
    }
  ]
}