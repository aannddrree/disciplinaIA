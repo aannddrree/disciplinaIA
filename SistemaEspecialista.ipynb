{
  "nbformat": 4,
  "nbformat_minor": 0,
  "metadata": {
    "colab": {
      "provenance": [],
      "authorship_tag": "ABX9TyONdIkvbUutDFhJ2seSfln6",
      "include_colab_link": true
    },
    "kernelspec": {
      "name": "python3",
      "display_name": "Python 3"
    },
    "language_info": {
      "name": "python"
    }
  },
  "cells": [
    {
      "cell_type": "markdown",
      "metadata": {
        "id": "view-in-github",
        "colab_type": "text"
      },
      "source": [
        "<a href=\"https://colab.research.google.com/github/aannddrree/disciplinaIA/blob/main/SistemaEspecialista.ipynb\" target=\"_parent\"><img src=\"https://colab.research.google.com/assets/colab-badge.svg\" alt=\"Open In Colab\"/></a>"
      ]
    },
    {
      "cell_type": "code",
      "execution_count": 1,
      "metadata": {
        "id": "n_xDW-8dDQhv"
      },
      "outputs": [],
      "source": [
        "regras = {\n",
        "    \"febre e tosse\": \"Gripe\",\n",
        "    \"febre e dor de cabeça\": \"Dengue\",\n",
        "    \"tosse e falta de ar\": \"Asma\",\n",
        "    \"fadiga e dor muscular\": \"Virose\"\n",
        "}"
      ]
    },
    {
      "cell_type": "code",
      "source": [
        "def diagnosticar(sintomas):\n",
        "    sintomas_str = \" e \".join(sorted(sintomas))  # Ordena para evitar variações\n",
        "    return regras.get(sintomas_str, \"Diagnóstico não encontrado\")\n",
        "\n",
        "# Exemplo de uso\n",
        "sintomas_usuario = [\"febre\", \"tosse\"]\n",
        "diagnostico = diagnosticar(sintomas_usuario)\n",
        "print(f\"Diagnóstico: {diagnostico}\")\n"
      ],
      "metadata": {
        "colab": {
          "base_uri": "https://localhost:8080/"
        },
        "id": "kECLCTQmD6uM",
        "outputId": "43e84861-de94-4513-9611-19f6f2a38fbc"
      },
      "execution_count": 2,
      "outputs": [
        {
          "output_type": "stream",
          "name": "stdout",
          "text": [
            "Diagnóstico: Gripe\n"
          ]
        }
      ]
    },
    {
      "cell_type": "code",
      "source": [
        "!pip install experta\n",
        "!pip install --upgrade experta frozendict\n",
        "!pip install frozendict==2.3.8\n"
      ],
      "metadata": {
        "colab": {
          "base_uri": "https://localhost:8080/"
        },
        "id": "YS-l_aJYEG44",
        "outputId": "d32ebc53-6ca4-42a5-9898-0977773015b0"
      },
      "execution_count": 21,
      "outputs": [
        {
          "output_type": "stream",
          "name": "stdout",
          "text": [
            "Requirement already satisfied: experta in /usr/local/lib/python3.11/dist-packages (1.9.4)\n",
            "Requirement already satisfied: frozendict==1.2 in /usr/local/lib/python3.11/dist-packages (from experta) (1.2)\n",
            "Requirement already satisfied: schema==0.6.7 in /usr/local/lib/python3.11/dist-packages (from experta) (0.6.7)\n",
            "Requirement already satisfied: experta in /usr/local/lib/python3.11/dist-packages (1.9.4)\n",
            "Requirement already satisfied: frozendict in /usr/local/lib/python3.11/dist-packages (1.2)\n",
            "Collecting frozendict\n",
            "  Using cached frozendict-2.4.6-py311-none-any.whl.metadata (23 kB)\n",
            "Requirement already satisfied: schema==0.6.7 in /usr/local/lib/python3.11/dist-packages (from experta) (0.6.7)\n",
            "Collecting frozendict==2.3.8\n",
            "  Downloading frozendict-2.3.8-py311-none-any.whl.metadata (20 kB)\n",
            "Downloading frozendict-2.3.8-py311-none-any.whl (14 kB)\n",
            "Installing collected packages: frozendict\n",
            "  Attempting uninstall: frozendict\n",
            "    Found existing installation: frozendict 1.2\n",
            "    Uninstalling frozendict-1.2:\n",
            "      Successfully uninstalled frozendict-1.2\n",
            "\u001b[31mERROR: pip's dependency resolver does not currently take into account all the packages that are installed. This behaviour is the source of the following dependency conflicts.\n",
            "experta 1.9.4 requires frozendict==1.2, but you have frozendict 2.3.8 which is incompatible.\u001b[0m\u001b[31m\n",
            "\u001b[0mSuccessfully installed frozendict-2.3.8\n"
          ]
        }
      ]
    },
    {
      "cell_type": "code",
      "source": [
        "from experta import *\n",
        "\n",
        "# Definição do sistema especialista\n",
        "class Diagnostico(KnowledgeEngine):\n",
        "    @Rule(Fact(febre=True) & Fact(tosse=True))\n",
        "    def gripe(self):\n",
        "        print(\"Diagnóstico: Gripe\")\n",
        "\n",
        "    @Rule(Fact(febre=True) & Fact(dor_de_cabeca=True))\n",
        "    def dengue(self):\n",
        "        print(\"Diagnóstico: Dengue\")\n",
        "\n",
        "    @Rule(Fact(tosse=True) & Fact(falta_de_ar=True))\n",
        "    def asma(self):\n",
        "        print(\"Diagnóstico: Asma\")\n",
        "\n",
        "    @Rule(Fact(fadiga=True) & Fact(dor_muscular=True))\n",
        "    def virose(self):\n",
        "        print(\"Diagnóstico: Virose\")\n",
        "\n",
        "# Criando o motor de inferência\n",
        "engine = Diagnostico()\n",
        "engine.reset()\n",
        "\n",
        "# Simulando entrada do usuário\n",
        "engine.declare(Fact(febre=True))\n",
        "engine.declare(Fact(tosse=True))\n",
        "\n",
        "# Executando as regras\n",
        "engine.run()\n"
      ],
      "metadata": {
        "colab": {
          "base_uri": "https://localhost:8080/"
        },
        "id": "hIyMcnpREaPb",
        "outputId": "3de5f08b-ec3d-4754-d695-bbef71519fab"
      },
      "execution_count": 23,
      "outputs": [
        {
          "output_type": "stream",
          "name": "stdout",
          "text": [
            "Diagnóstico: Gripe\n"
          ]
        }
      ]
    }
  ]
}