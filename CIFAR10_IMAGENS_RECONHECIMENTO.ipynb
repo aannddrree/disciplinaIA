{
  "nbformat": 4,
  "nbformat_minor": 0,
  "metadata": {
    "colab": {
      "provenance": [],
      "authorship_tag": "ABX9TyMZg8IXVOQEh/679NGx0HVX",
      "include_colab_link": true
    },
    "kernelspec": {
      "name": "python3",
      "display_name": "Python 3"
    },
    "language_info": {
      "name": "python"
    }
  },
  "cells": [
    {
      "cell_type": "markdown",
      "metadata": {
        "id": "view-in-github",
        "colab_type": "text"
      },
      "source": [
        "<a href=\"https://colab.research.google.com/github/aannddrree/disciplinaIA/blob/main/CIFAR10_IMAGENS_RECONHECIMENTO.ipynb\" target=\"_parent\"><img src=\"https://colab.research.google.com/assets/colab-badge.svg\" alt=\"Open In Colab\"/></a>"
      ]
    },
    {
      "cell_type": "code",
      "execution_count": 5,
      "metadata": {
        "colab": {
          "base_uri": "https://localhost:8080/"
        },
        "id": "cL8xE4PTrC0t",
        "outputId": "70db6de3-7dc2-466b-9093-19421367016a"
      },
      "outputs": [
        {
          "output_type": "stream",
          "name": "stdout",
          "text": [
            "Downloading data from https://www.cs.toronto.edu/~kriz/cifar-10-python.tar.gz\n",
            "170498071/170498071 [==============================] - 2s 0us/step\n",
            "Epoch 1/10\n",
            "1563/1563 [==============================] - 90s 56ms/step - loss: 1.4449 - accuracy: 0.4760 - val_loss: 1.1944 - val_accuracy: 0.5740\n",
            "Epoch 2/10\n",
            "1563/1563 [==============================] - 80s 51ms/step - loss: 1.0502 - accuracy: 0.6296 - val_loss: 1.0026 - val_accuracy: 0.6466\n",
            "Epoch 3/10\n",
            "1563/1563 [==============================] - 89s 57ms/step - loss: 0.8817 - accuracy: 0.6889 - val_loss: 0.9110 - val_accuracy: 0.6847\n",
            "Epoch 4/10\n",
            "1563/1563 [==============================] - 81s 52ms/step - loss: 0.7705 - accuracy: 0.7303 - val_loss: 0.8349 - val_accuracy: 0.7079\n",
            "Epoch 5/10\n",
            "1563/1563 [==============================] - 81s 52ms/step - loss: 0.6801 - accuracy: 0.7589 - val_loss: 0.8569 - val_accuracy: 0.7078\n",
            "Epoch 6/10\n",
            "1563/1563 [==============================] - 83s 53ms/step - loss: 0.6068 - accuracy: 0.7861 - val_loss: 0.8190 - val_accuracy: 0.7195\n",
            "Epoch 7/10\n",
            "1563/1563 [==============================] - 79s 51ms/step - loss: 0.5346 - accuracy: 0.8091 - val_loss: 0.8597 - val_accuracy: 0.7149\n",
            "Epoch 8/10\n",
            "1563/1563 [==============================] - 92s 59ms/step - loss: 0.4710 - accuracy: 0.8326 - val_loss: 0.8895 - val_accuracy: 0.7205\n",
            "Epoch 9/10\n",
            "1563/1563 [==============================] - 81s 52ms/step - loss: 0.4117 - accuracy: 0.8544 - val_loss: 0.8993 - val_accuracy: 0.7312\n",
            "Epoch 10/10\n",
            "1563/1563 [==============================] - 86s 55ms/step - loss: 0.3542 - accuracy: 0.8742 - val_loss: 0.9322 - val_accuracy: 0.7298\n",
            "313/313 [==============================] - 4s 13ms/step - loss: 0.9322 - accuracy: 0.7298\n",
            "Test accuracy: 0.7297999858856201\n"
          ]
        }
      ],
      "source": [
        "import tensorflow as tf\n",
        "from tensorflow.keras.datasets import cifar10\n",
        "from tensorflow.keras.preprocessing.image import ImageDataGenerator\n",
        "\n",
        "# Carregar os dados CIFAR-10\n",
        "(train_images, train_labels), (test_images, test_labels) = cifar10.load_data()\n",
        "\n",
        "# Pré-processamento das imagens\n",
        "train_images = train_images / 255.0\n",
        "test_images = test_images / 255.0\n",
        "\n",
        "# Definir o modelo CNN\n",
        "model = tf.keras.models.Sequential([\n",
        "    tf.keras.layers.Conv2D(32, (3, 3), activation='relu', input_shape=(32, 32, 3)),\n",
        "    tf.keras.layers.MaxPooling2D((2, 2)),\n",
        "    tf.keras.layers.Conv2D(64, (3, 3), activation='relu'),\n",
        "    tf.keras.layers.MaxPooling2D((2, 2)),\n",
        "    tf.keras.layers.Conv2D(128, (3, 3), activation='relu'),\n",
        "    tf.keras.layers.MaxPooling2D((2, 2)),\n",
        "    tf.keras.layers.Flatten(),\n",
        "    tf.keras.layers.Dense(512, activation='relu'),\n",
        "    tf.keras.layers.Dense(10, activation='softmax')\n",
        "])\n",
        "\n",
        "# Compilar o modelo\n",
        "model.compile(optimizer='adam',\n",
        "              loss='sparse_categorical_crossentropy',\n",
        "              metrics=['accuracy'])\n",
        "\n",
        "# Treinar o modelo\n",
        "history = model.fit(train_images, train_labels, epochs=10, validation_data=(test_images, test_labels))\n",
        "\n",
        "# Avaliar o modelo\n",
        "test_loss, test_acc = model.evaluate(test_images, test_labels)\n",
        "\n",
        "print('Test accuracy:', test_acc)\n"
      ]
    },
    {
      "cell_type": "code",
      "source": [
        "model.save('modelo_cifar10.h5')"
      ],
      "metadata": {
        "colab": {
          "base_uri": "https://localhost:8080/"
        },
        "id": "zPiESjh6Ug-9",
        "outputId": "97d6a44c-1926-409d-e92e-3b1fbbc8d4e1"
      },
      "execution_count": 11,
      "outputs": [
        {
          "output_type": "stream",
          "name": "stderr",
          "text": [
            "/usr/local/lib/python3.10/dist-packages/keras/src/engine/training.py:3103: UserWarning: You are saving your model as an HDF5 file via `model.save()`. This file format is considered legacy. We recommend using instead the native Keras format, e.g. `model.save('my_model.keras')`.\n",
            "  saving_api.save_model(\n"
          ]
        }
      ]
    },
    {
      "cell_type": "code",
      "source": [
        "import tensorflow as tf\n",
        "import numpy as np\n",
        "from tensorflow.keras.preprocessing import image\n",
        "\n",
        "# Carregar o modelo treinado\n",
        "model = tf.keras.models.load_model('modelo_cifar10.h5')\n",
        "\n",
        "# Carregar uma nova imagem\n",
        "image_path = '/content/dados/gato.jpeg'  # Substitua pelo caminho da sua imagem\n",
        "img = image.load_img(image_path, target_size=(32, 32))\n",
        "img_array = image.img_to_array(img)\n",
        "img_array = np.expand_dims(img_array, axis=0)\n",
        "img_array /= 255.0  # Normalização\n",
        "\n",
        "# Fazer a previsão\n",
        "prediction = model.predict(img_array)\n",
        "predicted_class = np.argmax(prediction)\n",
        "\n",
        "# Mapear o número da classe para o nome da classe\n",
        "class_names = ['avião', 'automóvel', 'pássaro', 'gato', 'cervo', 'cachorro', 'sapo', 'cavalo', 'navio', 'caminhão']\n",
        "predicted_label = class_names[predicted_class]\n",
        "\n",
        "print('Predicted class:', predicted_label)\n"
      ],
      "metadata": {
        "colab": {
          "base_uri": "https://localhost:8080/"
        },
        "id": "NlMJgunnsVeR",
        "outputId": "1c4b7512-29fa-4e8d-dc4f-8484d2a29684"
      },
      "execution_count": 17,
      "outputs": [
        {
          "output_type": "stream",
          "name": "stdout",
          "text": [
            "1/1 [==============================] - 0s 88ms/step\n",
            "Predicted class: gato\n"
          ]
        }
      ]
    }
  ]
}