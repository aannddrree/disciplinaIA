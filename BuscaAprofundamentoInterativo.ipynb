{
  "nbformat": 4,
  "nbformat_minor": 0,
  "metadata": {
    "colab": {
      "provenance": [],
      "authorship_tag": "ABX9TyMAlQEJ/eIUiQEErU48ZlDR",
      "include_colab_link": true
    },
    "kernelspec": {
      "name": "python3",
      "display_name": "Python 3"
    },
    "language_info": {
      "name": "python"
    }
  },
  "cells": [
    {
      "cell_type": "markdown",
      "metadata": {
        "id": "view-in-github",
        "colab_type": "text"
      },
      "source": [
        "<a href=\"https://colab.research.google.com/github/aannddrree/disciplinaIA/blob/main/BuscaAprofundamentoInterativo.ipynb\" target=\"_parent\"><img src=\"https://colab.research.google.com/assets/colab-badge.svg\" alt=\"Open In Colab\"/></a>"
      ]
    },
    {
      "cell_type": "markdown",
      "source": [
        "# Busca de Aprofundamento Iterativo (BAI)\n"
      ],
      "metadata": {
        "id": "UKBRVjiu6Bcd"
      }
    },
    {
      "cell_type": "markdown",
      "source": [
        "Nó da árvore"
      ],
      "metadata": {
        "id": "_eRqk_DA6FCB"
      }
    },
    {
      "cell_type": "code",
      "execution_count": 1,
      "metadata": {
        "id": "5EGE6yDh53en"
      },
      "outputs": [],
      "source": [
        "class Node:\n",
        "    def __init__(self, data):\n",
        "        self.data = data\n",
        "        self.left = None\n",
        "        self.right = None"
      ]
    },
    {
      "cell_type": "markdown",
      "source": [
        "Função de busca em profundidade limitada"
      ],
      "metadata": {
        "id": "Jc1l-rL66JzK"
      }
    },
    {
      "cell_type": "code",
      "source": [
        "def depth_limited_search(node, target, depth):\n",
        "    if node is None:  # Caso base: nó é nulo\n",
        "        return False\n",
        "\n",
        "    if node.data == target:  # Caso base: encontrou o elemento\n",
        "        print(\"Elemento\", target, \"encontrado na árvore.\")\n",
        "        return True\n",
        "\n",
        "    if depth <= 0:  # Caso base: profundidade máxima atingida\n",
        "        return False\n",
        "\n",
        "    # Recursão para os nós filhos\n",
        "    if depth_limited_search(node.left, target, depth - 1):\n",
        "        return True\n",
        "    if depth_limited_search(node.right, target, depth - 1):\n",
        "        return True\n",
        "\n",
        "    return False"
      ],
      "metadata": {
        "id": "FWubewmc6NcJ"
      },
      "execution_count": 2,
      "outputs": []
    },
    {
      "cell_type": "markdown",
      "source": [
        "Função de busca de aprofundamento iterativo"
      ],
      "metadata": {
        "id": "Xl-zetT86Qmk"
      }
    },
    {
      "cell_type": "code",
      "source": [
        "def iterative_deepening_search(root, target):\n",
        "    depth = 0\n",
        "    while True:\n",
        "        print(\"Busca em profundidade limitada com profundidade\", depth)\n",
        "        if depth_limited_search(root, target, depth):\n",
        "            return True\n",
        "        depth += 1\n",
        "\n",
        "    return False"
      ],
      "metadata": {
        "id": "2WkKEWDK6T6N"
      },
      "execution_count": 3,
      "outputs": []
    },
    {
      "cell_type": "markdown",
      "source": [
        "Árvore de exemplo"
      ],
      "metadata": {
        "id": "t5eK1GAq6WJe"
      }
    },
    {
      "cell_type": "code",
      "source": [
        "def create_tree():\n",
        "    root = Node(1)\n",
        "    root.left = Node(2)\n",
        "    root.right = Node(3)\n",
        "    root.left.left = Node(4)\n",
        "    root.left.right = Node(5)\n",
        "    root.right.left = Node(6)\n",
        "    root.right.right = Node(7)\n",
        "    root.left.left.left = Node(8)\n",
        "    root.left.left.right = Node(9)\n",
        "    return root"
      ],
      "metadata": {
        "id": "kY7sknvJ6ZLA"
      },
      "execution_count": 4,
      "outputs": []
    },
    {
      "cell_type": "markdown",
      "source": [
        "Teste:"
      ],
      "metadata": {
        "id": "iUXuKWOT6bZb"
      }
    },
    {
      "cell_type": "code",
      "source": [
        "def main():\n",
        "    root = create_tree()  # Gerar Arvore\n",
        "    target = 5  # Elemento a ser buscado\n",
        "    print(\"Busca de Aprofundamento Iterativo para o elemento\", target, \":\")\n",
        "    if not iterative_deepening_search(root, target):\n",
        "        print(\"Elemento\", target, \"não encontrado na árvore.\")\n",
        "\n",
        "\n",
        "if __name__ == \"__main__\":\n",
        "    main()"
      ],
      "metadata": {
        "colab": {
          "base_uri": "https://localhost:8080/"
        },
        "id": "yUETvZaE6d2F",
        "outputId": "667a4365-1a63-40f5-a069-320c40e81836"
      },
      "execution_count": 5,
      "outputs": [
        {
          "output_type": "stream",
          "name": "stdout",
          "text": [
            "Busca de Aprofundamento Iterativo para o elemento 5 :\n",
            "Busca em profundidade limitada com profundidade 0\n",
            "Busca em profundidade limitada com profundidade 1\n",
            "Busca em profundidade limitada com profundidade 2\n",
            "Elemento 5 encontrado na árvore.\n"
          ]
        }
      ]
    }
  ]
}