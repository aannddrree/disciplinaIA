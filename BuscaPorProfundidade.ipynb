{
  "nbformat": 4,
  "nbformat_minor": 0,
  "metadata": {
    "colab": {
      "provenance": [],
      "toc_visible": true,
      "authorship_tag": "ABX9TyPlezZLx1h7XdpoACIubC1P",
      "include_colab_link": true
    },
    "kernelspec": {
      "name": "python3",
      "display_name": "Python 3"
    },
    "language_info": {
      "name": "python"
    }
  },
  "cells": [
    {
      "cell_type": "markdown",
      "metadata": {
        "id": "view-in-github",
        "colab_type": "text"
      },
      "source": [
        "<a href=\"https://colab.research.google.com/github/aannddrree/disciplinaIA/blob/main/BuscaPorProfundidade.ipynb\" target=\"_parent\"><img src=\"https://colab.research.google.com/assets/colab-badge.svg\" alt=\"Open In Colab\"/></a>"
      ]
    },
    {
      "cell_type": "markdown",
      "source": [
        "# Algoritmo de Busca por Profundidade"
      ],
      "metadata": {
        "id": "-GTCsIXxIaTx"
      }
    },
    {
      "cell_type": "markdown",
      "source": [
        "## Função de Busca por profundidade"
      ],
      "metadata": {
        "id": "G_hj09-rIUHv"
      }
    },
    {
      "cell_type": "code",
      "execution_count": null,
      "metadata": {
        "id": "u32-z_FiIEii"
      },
      "outputs": [],
      "source": [
        "def dfs(graph, start, visited=None):\n",
        "    if visited is None:\n",
        "        visited = set()\n",
        "\n",
        "    visited.add(start)\n",
        "    print(f'Visitando nó {start}')\n",
        "\n",
        "    for neighbor in graph[start]:\n",
        "        if neighbor not in visited:\n",
        "            dfs(graph, neighbor, visited)\n",
        "\n",
        "\n"
      ]
    },
    {
      "cell_type": "markdown",
      "source": [
        "## Grafo utilizado como exemplo:"
      ],
      "metadata": {
        "id": "8qytufEcIQbF"
      }
    },
    {
      "cell_type": "code",
      "source": [
        "\n",
        "grafo = {\n",
        "    'A': ['B', 'C'],\n",
        "    'B': ['A', 'D', 'E'],\n",
        "    'C': ['A', 'F', 'G'],\n",
        "    'D': ['B'],\n",
        "    'E': ['B', 'H'],\n",
        "    'F': ['C'],\n",
        "    'G': ['C'],\n",
        "    'H': ['E']\n",
        "}\n",
        "\n"
      ],
      "metadata": {
        "id": "tHUw_h9NIFbo"
      },
      "execution_count": null,
      "outputs": []
    },
    {
      "cell_type": "markdown",
      "source": [
        "## Iniciar função"
      ],
      "metadata": {
        "id": "tXqzUcKSIWyl"
      }
    },
    {
      "cell_type": "code",
      "source": [
        "\n",
        "dfs(grafo, 'A')"
      ],
      "metadata": {
        "id": "BmB8DGcXIHhS"
      },
      "execution_count": null,
      "outputs": []
    }
  ]
}