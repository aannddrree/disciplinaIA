{
  "nbformat": 4,
  "nbformat_minor": 0,
  "metadata": {
    "colab": {
      "provenance": [],
      "mount_file_id": "1kmXJo2sSehsF0owOK8tEMM-1uNtyiPOq",
      "authorship_tag": "ABX9TyPfs5tNdd792b1f+iM0DIQf",
      "include_colab_link": true
    },
    "kernelspec": {
      "name": "python3",
      "display_name": "Python 3"
    },
    "language_info": {
      "name": "python"
    }
  },
  "cells": [
    {
      "cell_type": "markdown",
      "metadata": {
        "id": "view-in-github",
        "colab_type": "text"
      },
      "source": [
        "<a href=\"https://colab.research.google.com/github/aannddrree/disciplinaIA/blob/main/projAIJogoPedraPapelTesoura.ipynb\" target=\"_parent\"><img src=\"https://colab.research.google.com/assets/colab-badge.svg\" alt=\"Open In Colab\"/></a>"
      ]
    },
    {
      "cell_type": "markdown",
      "source": [
        "# **`*Meu primeiro programa usando Python no Colab*`**"
      ],
      "metadata": {
        "id": "DgvAKpsZVrvB"
      }
    },
    {
      "cell_type": "code",
      "execution_count": 1,
      "metadata": {
        "colab": {
          "base_uri": "https://localhost:8080/"
        },
        "id": "1rnoDC5wVhac",
        "outputId": "912996b3-aec7-4943-ad03-7670de6ba6ba"
      },
      "outputs": [
        {
          "output_type": "stream",
          "name": "stdout",
          "text": [
            "teste turma!\n"
          ]
        }
      ],
      "source": [
        "print(\"teste turma!\")"
      ]
    },
    {
      "cell_type": "code",
      "source": [
        "teste = 1\n",
        "if (teste == 1):\n",
        "  print(\"teste1\")"
      ],
      "metadata": {
        "colab": {
          "base_uri": "https://localhost:8080/"
        },
        "id": "TrHGXcK-Wchx",
        "outputId": "ab267af0-8230-4a1f-832a-5662ac388e51"
      },
      "execution_count": 2,
      "outputs": [
        {
          "output_type": "stream",
          "name": "stdout",
          "text": [
            "teste1\n"
          ]
        }
      ]
    },
    {
      "cell_type": "code",
      "source": [
        "print(teste)"
      ],
      "metadata": {
        "colab": {
          "base_uri": "https://localhost:8080/"
        },
        "id": "n4Z4_KMBWn7O",
        "outputId": "116d3e05-77ac-4d71-cd9d-00438d78e09f"
      },
      "execution_count": 3,
      "outputs": [
        {
          "output_type": "stream",
          "name": "stdout",
          "text": [
            "1\n"
          ]
        }
      ]
    },
    {
      "cell_type": "code",
      "source": [
        "import random\n",
        "\n",
        "def jogo_pedra_papel_tesoura(escolha_usuario):\n",
        "  escolhas_possiveis = [\"pedra\", \"papel\", \"tesoura\"]\n",
        "  escolha_computador = random.choice(escolhas_possiveis)\n",
        "\n",
        "  print(f\"\\nVocê escolheu: {escolha_usuario}\")\n",
        "  print(f\"O computador escolheu: {escolha_computador}\")\n",
        "\n",
        "  if escolha_usuario == escolha_computador:\n",
        "    return \"Empate!\"\n",
        "\n",
        "  if (escolha_usuario == \"pedra\" and escolha_computador == \"tesoura\") or \\\n",
        "  (escolha_usuario == \"papel\" and escolha_computador == \"pedra\") or \\\n",
        "  (escolha_usuario == \"tesoura\" and escolha_computador == \"papel\"):\n",
        "    return \"Você ganhou!\"\n",
        "  else:\n",
        "    return \"Você perdeu!\"\n",
        "\n",
        "print(\"Inicio do meu jogo\")\n",
        "\n",
        "while True:\n",
        "  escolha_usuario = input(\"Escolha pedra, papel, tesoura ou digit sair (para sair rs)\")\n",
        "\n",
        "  if escolha_usuario == \"sair\":\n",
        "    break\n",
        "  elif escolha_usuario not in [\"pedra\", \"papel\", \"tesoura\"]:\n",
        "    print(\"Escolha inválida. Por favor, escolha pedra, papel ou tesoura.\")\n",
        "  else:\n",
        "    resultado = jogo_pedra_papel_tesoura(escolha_usuario)\n",
        "    print(resultado)\n",
        "\n",
        "print(\"Fim do meu jogo\")\n",
        ""
      ],
      "metadata": {
        "colab": {
          "base_uri": "https://localhost:8080/"
        },
        "id": "Z9ZrT9HSeSv3",
        "outputId": "218d813e-ab4d-439a-a412-60d0dcd352f4"
      },
      "execution_count": null,
      "outputs": [
        {
          "output_type": "stream",
          "name": "stdout",
          "text": [
            "Inicio do meu jogo\n",
            "Escolha pedra, papel, tesoura ou digit sair (para sair rs)pedra\n",
            "\n",
            "Você escolheu: pedra\n",
            "O computador escolheu: pedra\n",
            "Empate!\n",
            "Escolha pedra, papel, tesoura ou digit sair (para sair rs)papel\n",
            "\n",
            "Você escolheu: papel\n",
            "O computador escolheu: tesoura\n",
            "Você perdeu!\n",
            "Escolha pedra, papel, tesoura ou digit sair (para sair rs)tesoura\n",
            "\n",
            "Você escolheu: tesoura\n",
            "O computador escolheu: pedra\n",
            "Você perdeu!\n",
            "Escolha pedra, papel, tesoura ou digit sair (para sair rs)papel\n",
            "\n",
            "Você escolheu: papel\n",
            "O computador escolheu: tesoura\n",
            "Você perdeu!\n",
            "Escolha pedra, papel, tesoura ou digit sair (para sair rs)papel\n",
            "\n",
            "Você escolheu: papel\n",
            "O computador escolheu: tesoura\n",
            "Você perdeu!\n",
            "Escolha pedra, papel, tesoura ou digit sair (para sair rs)pedra\n",
            "\n",
            "Você escolheu: pedra\n",
            "O computador escolheu: papel\n",
            "Você perdeu!\n",
            "Escolha pedra, papel, tesoura ou digit sair (para sair rs)papel\n",
            "\n",
            "Você escolheu: papel\n",
            "O computador escolheu: papel\n",
            "Empate!\n",
            "Escolha pedra, papel, tesoura ou digit sair (para sair rs)pedra\n",
            "\n",
            "Você escolheu: pedra\n",
            "O computador escolheu: papel\n",
            "Você perdeu!\n",
            "Escolha pedra, papel, tesoura ou digit sair (para sair rs)papel\n",
            "\n",
            "Você escolheu: papel\n",
            "O computador escolheu: papel\n",
            "Empate!\n",
            "Escolha pedra, papel, tesoura ou digit sair (para sair rs)tesoura\n",
            "\n",
            "Você escolheu: tesoura\n",
            "O computador escolheu: pedra\n",
            "Você perdeu!\n",
            "Escolha pedra, papel, tesoura ou digit sair (para sair rs)papel\n",
            "\n",
            "Você escolheu: papel\n",
            "O computador escolheu: tesoura\n",
            "Você perdeu!\n",
            "Escolha pedra, papel, tesoura ou digit sair (para sair rs)tesoura\n",
            "\n",
            "Você escolheu: tesoura\n",
            "O computador escolheu: papel\n",
            "Você ganhou!\n",
            "\n",
            "Você escolheu: tesoura\n",
            "O computador escolheu: papel\n",
            "Você ganhou!\n"
          ]
        }
      ]
    }
  ]
}