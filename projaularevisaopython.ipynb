{
  "nbformat": 4,
  "nbformat_minor": 0,
  "metadata": {
    "colab": {
      "provenance": [],
      "authorship_tag": "ABX9TyOsTi4xmVMEcRR5DIWvvDJi",
      "include_colab_link": true
    },
    "kernelspec": {
      "name": "python3",
      "display_name": "Python 3"
    },
    "language_info": {
      "name": "python"
    }
  },
  "cells": [
    {
      "cell_type": "markdown",
      "metadata": {
        "id": "view-in-github",
        "colab_type": "text"
      },
      "source": [
        "<a href=\"https://colab.research.google.com/github/aannddrree/disciplinaIA/blob/main/projaularevisaopython.ipynb\" target=\"_parent\"><img src=\"https://colab.research.google.com/assets/colab-badge.svg\" alt=\"Open In Colab\"/></a>"
      ]
    },
    {
      "cell_type": "code",
      "execution_count": 1,
      "metadata": {
        "colab": {
          "base_uri": "https://localhost:8080/"
        },
        "id": "MVATXdpenceb",
        "outputId": "4f906588-7d49-443a-a6c0-9bed8d43bd7d"
      },
      "outputs": [
        {
          "output_type": "stream",
          "name": "stdout",
          "text": [
            "Olá turma!\n"
          ]
        }
      ],
      "source": [
        "print('Olá turma!')"
      ]
    },
    {
      "cell_type": "markdown",
      "source": [
        "# ***Fazer uma operação matemática:***"
      ],
      "metadata": {
        "id": "_4dxrn0anrLg"
      }
    },
    {
      "cell_type": "code",
      "source": [
        "a = 1\n",
        "b = 2\n",
        "print('soma: ' + str(a + b))"
      ],
      "metadata": {
        "colab": {
          "base_uri": "https://localhost:8080/"
        },
        "id": "QQfEhC_YnoWj",
        "outputId": "7913234d-56cb-4b02-e53f-ad7bea9524c2"
      },
      "execution_count": 2,
      "outputs": [
        {
          "output_type": "stream",
          "name": "stdout",
          "text": [
            "soma: 3\n"
          ]
        }
      ]
    },
    {
      "cell_type": "code",
      "source": [
        "def somar(a, b):\n",
        "  return a + b\n"
      ],
      "metadata": {
        "id": "cZEn7eT_oQOm"
      },
      "execution_count": 3,
      "outputs": []
    },
    {
      "cell_type": "code",
      "source": [
        "print('Soma: ' + str(somar(1,2)))"
      ],
      "metadata": {
        "colab": {
          "base_uri": "https://localhost:8080/"
        },
        "id": "Hm_jOE7aoda6",
        "outputId": "7452b753-d795-41dd-d647-4c4605976d84"
      },
      "execution_count": 4,
      "outputs": [
        {
          "output_type": "stream",
          "name": "stdout",
          "text": [
            "Soma: 3\n"
          ]
        }
      ]
    },
    {
      "cell_type": "code",
      "source": [
        "a = 1\n",
        "if (a == 2):\n",
        "  print('a é igual a 2')\n",
        "elif (a == 1):\n",
        "  print('a é igual a 1')\n",
        "else:\n",
        "  print('não sei')"
      ],
      "metadata": {
        "colab": {
          "base_uri": "https://localhost:8080/"
        },
        "id": "JaO1xS8npB3-",
        "outputId": "b4afc76e-ca03-44c7-c512-3a183b47b3a7"
      },
      "execution_count": 5,
      "outputs": [
        {
          "output_type": "stream",
          "name": "stdout",
          "text": [
            "a é igual a 1\n"
          ]
        }
      ]
    },
    {
      "cell_type": "code",
      "source": [
        "import random"
      ],
      "metadata": {
        "id": "F2yCZJ5qphRF"
      },
      "execution_count": 6,
      "outputs": []
    },
    {
      "cell_type": "code",
      "source": [
        "escolha = random.randint(1, 3)\n",
        "print(str(escolha))"
      ],
      "metadata": {
        "colab": {
          "base_uri": "https://localhost:8080/"
        },
        "id": "TXg9-EALpr0a",
        "outputId": "5c305ff4-2ef3-432c-aa28-3ce915f90de7"
      },
      "execution_count": 17,
      "outputs": [
        {
          "output_type": "stream",
          "name": "stdout",
          "text": [
            "3\n"
          ]
        }
      ]
    }
  ]
}