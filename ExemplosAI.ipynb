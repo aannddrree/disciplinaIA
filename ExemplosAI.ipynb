{
  "nbformat": 4,
  "nbformat_minor": 0,
  "metadata": {
    "colab": {
      "provenance": [],
      "authorship_tag": "ABX9TyPwuoYy7bAjt5vQUf7ACy4O",
      "include_colab_link": true
    },
    "kernelspec": {
      "name": "python3",
      "display_name": "Python 3"
    },
    "language_info": {
      "name": "python"
    }
  },
  "cells": [
    {
      "cell_type": "markdown",
      "metadata": {
        "id": "view-in-github",
        "colab_type": "text"
      },
      "source": [
        "<a href=\"https://colab.research.google.com/github/aannddrree/disciplinaIA/blob/main/ExemplosAI.ipynb\" target=\"_parent\"><img src=\"https://colab.research.google.com/assets/colab-badge.svg\" alt=\"Open In Colab\"/></a>"
      ]
    },
    {
      "cell_type": "markdown",
      "source": [
        "# **Educação**"
      ],
      "metadata": {
        "id": "-zzABDE9-EEH"
      }
    },
    {
      "cell_type": "code",
      "execution_count": 2,
      "metadata": {
        "colab": {
          "base_uri": "https://localhost:8080/"
        },
        "id": "2bW3jbI_7dmg",
        "outputId": "bea45dc3-398e-4823-ba92-578d7d6b4f7b"
      },
      "outputs": [
        {
          "name": "stdout",
          "output_type": "stream",
          "text": [
            "Chatbot de IA. Digite 'sair' para encerrar.\n",
            "Você: o que vc sabe sobre python ? \n",
            "Chatbot: Python é uma linguagem amplamente usada para Inteligência Artificial.\n",
            "Você: eu nao gosto de python \n",
            "Chatbot: Python é uma linguagem amplamente usada para Inteligência Artificial.\n",
            "Você: quanto e 2 + 2 \n",
            "Chatbot: None\n",
            "Você: vc gosta de redes ? \n",
            "Chatbot: None\n",
            "Você: o que vc me fala sobre redes neurais ? \n",
            "Chatbot: Redes neurais são modelos computacionais inspirados no cérebro humano.\n",
            "Você: sair\n"
          ]
        }
      ],
      "source": [
        "import random\n",
        "import nltk\n",
        "from nltk.chat.util import Chat, reflections\n",
        "\n",
        "pairs = [\n",
        "    [\"(.*) aprendizado de máquina(.*)\", [\"Aprendizado de Máquina é uma área da IA que ensina computadores a aprender padrões a partir de dados.\"]],\n",
        "    [\"(.*) redes neurais(.*)\", [\"Redes neurais são modelos computacionais inspirados no cérebro humano.\"]],\n",
        "    [\"(.*) Python(.*)\", [\"Python é uma linguagem amplamente usada para Inteligência Artificial.\"]]\n",
        "]\n",
        "\n",
        "chatbot = Chat(pairs, reflections)\n",
        "print(\"Chatbot de IA. Digite 'sair' para encerrar.\")\n",
        "while True:\n",
        "    user_input = input(\"Você: \")\n",
        "    if user_input.lower() == \"sair\":\n",
        "        break\n",
        "    print(\"Chatbot:\", chatbot.respond(user_input))\n"
      ]
    }
  ]
}